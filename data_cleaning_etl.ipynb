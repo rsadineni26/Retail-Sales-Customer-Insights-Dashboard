{
 "cells": [
  {
   "cell_type": "code",
   "execution_count": 3,
   "id": "1fa4a0e6-959c-463b-a8d9-3d99279c9fc0",
   "metadata": {},
   "outputs": [],
   "source": [
    "import pandas as pd\n"
   ]
  },
  {
   "cell_type": "code",
   "execution_count": 4,
   "id": "da67f4ae-2981-437d-ae4c-d9c93612fc5a",
   "metadata": {},
   "outputs": [],
   "source": [
    "sales = pd.read_excel(\"sales_data.xlsx\")\n",
    "customers = pd.read_excel(\"customers.xlsx\")\n",
    "products = pd.read_excel(\"products.xlsx\")\n",
    "marketing = pd.read_excel(\"marketing_spend.xlsx\")\n"
   ]
  },
  {
   "cell_type": "code",
   "execution_count": 5,
   "id": "870cc0a8-0720-4bac-84c6-99b94ba9c60f",
   "metadata": {},
   "outputs": [
    {
     "name": "stdout",
     "output_type": "stream",
     "text": [
      "<class 'pandas.core.frame.DataFrame'>\n",
      "RangeIndex: 1000 entries, 0 to 999\n",
      "Data columns (total 7 columns):\n",
      " #   Column       Non-Null Count  Dtype         \n",
      "---  ------       --------------  -----         \n",
      " 0   sale_id      1000 non-null   int64         \n",
      " 1   customer_id  1000 non-null   int64         \n",
      " 2   product_id   1000 non-null   int64         \n",
      " 3   quantity     1000 non-null   int64         \n",
      " 4   sale_date    1000 non-null   datetime64[ns]\n",
      " 5   unit_price   1000 non-null   float64       \n",
      " 6   total_price  1000 non-null   float64       \n",
      "dtypes: datetime64[ns](1), float64(2), int64(4)\n",
      "memory usage: 54.8 KB\n",
      "None\n",
      "sale_id        0\n",
      "customer_id    0\n",
      "product_id     0\n",
      "quantity       0\n",
      "sale_date      0\n",
      "unit_price     0\n",
      "total_price    0\n",
      "dtype: int64\n"
     ]
    }
   ],
   "source": [
    "# Check info\n",
    "print(sales.info())\n",
    "print(sales.isnull().sum())\n",
    "\n",
    "# Drop rows with missing values (if any)\n",
    "sales.dropna(inplace=True)\n",
    "\n",
    "# Ensure data types\n",
    "sales['sale_date'] = pd.to_datetime(sales['sale_date'])\n",
    "sales['quantity'] = sales['quantity'].astype(int)\n",
    "sales['unit_price'] = sales['unit_price'].astype(float)\n",
    "\n",
    "# Recalculate total_price\n",
    "sales['total_price'] = (sales['quantity'] * sales['unit_price']).round(2)\n"
   ]
  },
  {
   "cell_type": "code",
   "execution_count": 6,
   "id": "480296a7-9e60-4662-9886-c4a419552e93",
   "metadata": {},
   "outputs": [
    {
     "name": "stdout",
     "output_type": "stream",
     "text": [
      "<class 'pandas.core.frame.DataFrame'>\n",
      "RangeIndex: 100 entries, 0 to 99\n",
      "Data columns (total 4 columns):\n",
      " #   Column         Non-Null Count  Dtype         \n",
      "---  ------         --------------  -----         \n",
      " 0   customer_id    100 non-null    int64         \n",
      " 1   customer_name  100 non-null    object        \n",
      " 2   region         100 non-null    object        \n",
      " 3   join_date      100 non-null    datetime64[ns]\n",
      "dtypes: datetime64[ns](1), int64(1), object(2)\n",
      "memory usage: 3.3+ KB\n",
      "None\n"
     ]
    }
   ],
   "source": [
    "\n",
    "print(customers.info())\n",
    "customers['join_date'] = pd.to_datetime(customers['join_date'])\n",
    "customers.drop_duplicates(subset='customer_id', inplace=True)\n",
    "\n",
    "# Optional: standardize regions\n",
    "customers['region'] = customers['region'].str.title().str.strip()\n"
   ]
  },
  {
   "cell_type": "code",
   "execution_count": 7,
   "id": "f1d19768-2806-4246-9b0a-dbf4726dbb42",
   "metadata": {},
   "outputs": [],
   "source": [
    "products.drop_duplicates(subset='product_id', inplace=True)\n",
    "products['product_name'] = products['product_name'].str.strip()\n",
    "products['category'] = products['category'].str.title().str.strip()\n"
   ]
  },
  {
   "cell_type": "code",
   "execution_count": 8,
   "id": "a09258f4-20aa-42b8-b3d6-f3a11048b4c1",
   "metadata": {},
   "outputs": [],
   "source": [
    "marketing['month'] = pd.to_datetime(marketing['month'], format=\"%Y-%m\")\n",
    "marketing['budget'] = marketing['budget'].astype(int)\n",
    "\n"
   ]
  },
  {
   "cell_type": "code",
   "execution_count": 9,
   "id": "030aa52f-2a0e-424f-af16-e61a187041a4",
   "metadata": {},
   "outputs": [
    {
     "name": "stdout",
     "output_type": "stream",
     "text": [
      "sale_id          0\n",
      "customer_id      0\n",
      "product_id       0\n",
      "quantity         0\n",
      "sale_date        0\n",
      "unit_price       0\n",
      "total_price      0\n",
      "customer_name    0\n",
      "region           0\n",
      "join_date        0\n",
      "product_name     0\n",
      "category         0\n",
      "dtype: int64\n"
     ]
    }
   ],
   "source": [
    "merged_sales = sales.merge(customers, on=\"customer_id\", how=\"left\")\\\n",
    "                    .merge(products, on=\"product_id\", how=\"left\")\n",
    "\n",
    "# Check if merge introduced nulls\n",
    "print(merged_sales.isnull().sum())\n",
    "\n",
    "# Optional: drop rows with missing merge info\n",
    "merged_sales.dropna(inplace=True)\n"
   ]
  },
  {
   "cell_type": "code",
   "execution_count": 10,
   "id": "f2c87c55-d591-42d3-8bd5-85f39a5337c3",
   "metadata": {},
   "outputs": [],
   "source": [
    "# Export to CSV or load to SQL\n",
    "merged_sales.to_csv(\"cleaned_sales.csv\", index=False)\n",
    "customers.to_csv(\"cleaned_customers.csv\", index=False)\n",
    "products.to_csv(\"cleaned_products.csv\", index=False)\n",
    "marketing.to_csv(\"cleaned_marketing.csv\", index=False)\n"
   ]
  },
  {
   "cell_type": "code",
   "execution_count": 12,
   "id": "ffe87ec0-9315-4229-91bc-1c38999e4de6",
   "metadata": {},
   "outputs": [
    {
     "data": {
      "text/plain": [
       "1000"
      ]
     },
     "execution_count": 12,
     "metadata": {},
     "output_type": "execute_result"
    }
   ],
   "source": [
    "import pandas as pd\n",
    "from sqlalchemy import create_engine\n",
    "\n",
    "# Replace with your actual MySQL credentials\n",
    "user = \"root\"\n",
    "password = \"root\"\n",
    "host = \"localhost:3307\"\n",
    "database = \"retail_db\"\n",
    "\n",
    "# Create SQLAlchemy engine\n",
    "engine = create_engine(f\"mysql+pymysql://{user}:{password}@{host}/{database}\")\n",
    "\n",
    "# Load cleaned CSVs\n",
    "sales = pd.read_csv(\"cleaned_sales.csv\")\n",
    "customers = pd.read_csv(\"cleaned_customers.csv\")\n",
    "products = pd.read_csv(\"cleaned_products.csv\")\n",
    "marketing = pd.read_csv(\"cleaned_marketing.csv\")\n",
    "\n",
    "# Upload to MySQL\n",
    "customers.to_sql(\"customers\", engine, if_exists=\"replace\", index=False)\n",
    "products.to_sql(\"products\", engine, if_exists=\"replace\", index=False)\n",
    "marketing.to_sql(\"marketing_spend\", engine, if_exists=\"replace\", index=False)\n",
    "sales.to_sql(\"sales_data\", engine, if_exists=\"replace\", index=False)\n"
   ]
  },
  {
   "cell_type": "code",
   "execution_count": null,
   "id": "3a1db1c3-ff7f-477b-95e9-9aa9eb3a8235",
   "metadata": {},
   "outputs": [],
   "source": []
  }
 ],
 "metadata": {
  "kernelspec": {
   "display_name": "Python 3 (ipykernel)",
   "language": "python",
   "name": "python3"
  },
  "language_info": {
   "codemirror_mode": {
    "name": "ipython",
    "version": 3
   },
   "file_extension": ".py",
   "mimetype": "text/x-python",
   "name": "python",
   "nbconvert_exporter": "python",
   "pygments_lexer": "ipython3",
   "version": "3.13.5"
  }
 },
 "nbformat": 4,
 "nbformat_minor": 5
}
